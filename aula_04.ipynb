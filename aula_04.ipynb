{
 "cells": [
  {
   "cell_type": "code",
   "execution_count": 11,
   "metadata": {},
   "outputs": [],
   "source": [
    "import numpy as np\n",
    "import matplotlib.pyplot as plt"
   ]
  },
  {
   "cell_type": "code",
   "execution_count": 37,
   "metadata": {},
   "outputs": [],
   "source": [
    "def transform(p, t_vec, esc_vec, theta):\n",
    "    transform_matrix = np.array([[esc_vec[0]*np.cos(theta), -np.sin(theta), t_vec[0]], \n",
    "                                 [np.sin(theta), esc_vec[1]*np.cos(theta), t_vec[1]],\n",
    "                                 [0, 0, 1]])\n",
    "    ph = np.array([[p[0]], [p[1]], [1]])\n",
    "\n",
    "    p_transform = transform_matrix@ph\n",
    "    \n",
    "    return p_transform[0], p_transform[1]\n",
    "\n",
    "def inv_transform(p, t_vec, esc_vec, theta):\n",
    "    transform_matrix = np.array([[esc_vec[0]*np.cos(theta), -np.sin(theta), t_vec[0]], \n",
    "                                 [np.sin(theta), esc_vec[1]*np.cos(theta), t_vec[1]],\n",
    "                                 [0, 0, 1]])\n",
    "    ph = np.array([[p[0]], [p[1]], [1]])\n",
    "\n",
    "    p_inverse = np.linalg.inv(transform_matrix)@ph\n",
    "    print(p_inverse)\n",
    "    return p_inverse[0], p_inverse[1]\n"
   ]
  },
  {
   "cell_type": "code",
   "execution_count": 35,
   "metadata": {},
   "outputs": [
    {
     "name": "stdout",
     "output_type": "stream",
     "text": [
      "[-2  4]\n"
     ]
    },
    {
     "name": "stderr",
     "output_type": "stream",
     "text": [
      "/tmp/ipykernel_90442/551445524.py:7: DeprecationWarning: Conversion of an array with ndim > 0 to a scalar is deprecated, and will error in future. Ensure you extract a single element from your array before performing this operation. (Deprecated NumPy 1.25.)\n",
      "  new_p[0], new_p[1] = transform(point, t_vec, escala, theta)\n"
     ]
    }
   ],
   "source": [
    "escala = np.array([1, 1])\n",
    "theta = np.pi/2\n",
    "point = np.array([2, 4])\n",
    "t_vec = np.array([1.5, 2.3])\n",
    "# retirar a terceira componente que surgiu\n",
    "new_p = np.array([0, 0])\n",
    "new_p[0], new_p[1] = transform(point, t_vec, escala, theta)\n",
    "print(new_p)"
   ]
  },
  {
   "cell_type": "code",
   "execution_count": 36,
   "metadata": {},
   "outputs": [
    {
     "name": "stdout",
     "output_type": "stream",
     "text": [
      "[[1.7]\n",
      " [3.5]\n",
      " [1. ]]\n",
      "[1 3]\n"
     ]
    },
    {
     "name": "stderr",
     "output_type": "stream",
     "text": [
      "/tmp/ipykernel_90442/2265173172.py:6: DeprecationWarning: Conversion of an array with ndim > 0 to a scalar is deprecated, and will error in future. Ensure you extract a single element from your array before performing this operation. (Deprecated NumPy 1.25.)\n",
      "  p_2[0], p_2[1] = inv_transform(new_p, t_vec, escala, theta)\n"
     ]
    }
   ],
   "source": [
    "escala = np.array([1, 1])\n",
    "theta = np.pi/2\n",
    "t_vec = np.array([1.5, 2.3])\n",
    "# retirar a terceira componente que surgiu\n",
    "p_2 = np.array([0, 0])\n",
    "p_2[0], p_2[1] = inv_transform(new_p, t_vec, escala, theta)\n",
    "print(p_2)"
   ]
  },
  {
   "cell_type": "markdown",
   "metadata": {},
   "source": [
    "Fazer a matriz de transformação em 3 dimensões e a sua inversa"
   ]
  },
  {
   "cell_type": "code",
   "execution_count": null,
   "metadata": {},
   "outputs": [],
   "source": [
    "def transform3D(p, t_vec, esc_vec, theta):\n",
    "    transform_matrix = np.array([[esc_vec[0]*np.cos(theta), -np.sin(theta), t_vec[0]], \n",
    "                                 [np.sin(theta), esc_vec[1]*np.cos(theta), t_vec[1]],\n",
    "                                 [0, 0, 1]])\n",
    "    ph = np.array([[p[0]], [p[1]], [1]])\n",
    "\n",
    "    p_transform = transform_matrix@ph\n",
    "    \n",
    "    return p_transform[0], p_transform[1]\n"
   ]
  },
  {
   "cell_type": "code",
   "execution_count": null,
   "metadata": {},
   "outputs": [],
   "source": []
  }
 ],
 "metadata": {
  "kernelspec": {
   "display_name": "drone",
   "language": "python",
   "name": "python3"
  },
  "language_info": {
   "codemirror_mode": {
    "name": "ipython",
    "version": 3
   },
   "file_extension": ".py",
   "mimetype": "text/x-python",
   "name": "python",
   "nbconvert_exporter": "python",
   "pygments_lexer": "ipython3",
   "version": "3.10.14"
  }
 },
 "nbformat": 4,
 "nbformat_minor": 2
}
